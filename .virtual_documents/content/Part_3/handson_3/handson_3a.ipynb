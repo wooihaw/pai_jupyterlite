


# Initialization
from warnings import filterwarnings
filterwarnings('ignore')


from pandas import read_csv, get_dummies
from sklearn.model_selection import train_test_split as split
from sklearn.linear_model import LinearRegression

df = read_csv('heights_weights_genders.csv')
X1 = df.drop(columns=['Weight(kg)', 'Gender'])
y1 = df['Weight(kg)']
X1_train, X1_test, y1_train, y1_test = split(X1, y1, random_state=42)











h = 175
print(f'Estimated weight is: {lnr1.predict([[h]])}kg')























h = 175
# Gender: 1 for female, 0 for male
g = 0   
print(f'Estimated weight is: {lnr2.predict([[h, g, 1-g]])}kg')
