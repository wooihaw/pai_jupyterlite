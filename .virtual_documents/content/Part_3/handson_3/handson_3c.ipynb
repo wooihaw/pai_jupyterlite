


# Initialization
from warnings import filterwarnings
filterwarnings('ignore')


# Load the required libraries
import sys
from pandas import read_csv
from sklearn.model_selection import train_test_split as split, KFold, cross_val_score
from sklearn.linear_model import LogisticRegression
from sklearn.tree import DecisionTreeClassifier
from sklearn.neighbors import KNeighborsClassifier
from sklearn.preprocessing import StandardScaler
from sklearn.decomposition import PCA


# Load the dataset
df = read_csv("steel_faults.csv")






























