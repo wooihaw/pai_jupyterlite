


# Initialization
from warnings import filterwarnings
filterwarnings('ignore')


# Import libraries
from pandas import read_csv
from sklearn.model_selection import train_test_split as split, KFold, GridSearchCV
from sklearn.tree import DecisionTreeClassifier


# Read data from csv file
df = read_csv("titanic_processed.csv")
df.sample(5)
























