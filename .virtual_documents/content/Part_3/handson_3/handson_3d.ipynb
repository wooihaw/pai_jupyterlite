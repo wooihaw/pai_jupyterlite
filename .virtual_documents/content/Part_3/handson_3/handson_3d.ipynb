


# Initialization
from warnings import filterwarnings
filterwarnings('ignore')


import pandas as pd
import matplotlib.pyplot as plt
from sklearn.cluster import KMeans

# Read dataset
df = pd.read_csv('drivers.csv', sep='\t', header=0)

# Store features (Column 1 & 2)
X = df.drop(columns=['Driver_ID'])

# Apply k-mean clustering with 2 clusters
km = KMeans(n_clusters=2).fit(X)

markers = ('rs', 'ro')
for i, m in enumerate(markers):
    plt.plot(km.cluster_centers_[i][0], km.cluster_centers_[i][1], m, label=i)
plt.scatter(X['Distance_Feature'], X['Speeding_Feature'], c=km.labels_)
plt.legend(loc='best')
plt.xlabel('Distance')
plt.ylabel('Speed')
plt.show()





# Apply k-mean clustering with 4 clusters













