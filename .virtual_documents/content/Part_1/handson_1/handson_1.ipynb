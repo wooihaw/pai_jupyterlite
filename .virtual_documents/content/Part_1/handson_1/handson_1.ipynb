


# Initialization
import warnings
warnings.filterwarnings('ignore')


# Load the required libraries
import numpy as np
from pandas import read_csv
from matplotlib import pyplot as plt
from sklearn.neighbors import KNeighborsClassifier
from sklearn.model_selection import train_test_split
from sklearn.preprocessing import MinMaxScaler
from sklearn.preprocessing import LabelEncoder








# load dataset
df = read_csv("heights_weights_genders.csv")

# Check the data
print(f"Dimension of the data: {df.shape}")

# Select 5 data samples random and print them
df.sample(5)


# Exploratory data analysis
mpos = df['Gender'] == 'Male'
fpos = df['Gender'] == 'Female'
plt.plot(df[mpos]['Height(cm)'], df[mpos]['Weight(kg)'], 'b*', alpha=0.1, label='Male')
plt.plot(df[fpos]['Height(cm)'], df[fpos]['Weight(kg)'], 'ro', alpha=0.1, label='Female')
plt.xlabel('Height')
plt.ylabel('Weight')
plt.legend(loc='best')
plt.show()





# Seperate the dataset into features (X) and label (y)
X = df.drop(columns=['Gender'])
y = df['Gender']
print(f'X dimension: {X.shape}')
print(f'y dimension: {y.shape}')


# split into training and testing sets
X_train, X_test, y_train, y_test = train_test_split(X, y, test_size=0.2, random_state=42)
print(f'X_train dimension: {X_train.shape}')
print(f'X_test dimension: {X_test.shape}')
print(f'y_train dimension: {y_train.shape}')
print(f'y_test dimension: {y_test.shape}')





# KNN classifier
knn = KNeighborsClassifier().fit(X_train, y_train)





print(f'KNN accuracy: {knn.score(X_test, y_test):.2%}')





# Make prediction based on user input
try:
    h = 175
    w = 80
    assert 0 < h < 300 and 0 < w < 300, "Value out of range"
except ValueError:    
    print("Invalid input! Please only enter number")
except AssertionError as e:
    print("Error! ", e)
else:
    res1 = knn.predict([[h, w]])
    print(f'kNN predicts: {res1}')
