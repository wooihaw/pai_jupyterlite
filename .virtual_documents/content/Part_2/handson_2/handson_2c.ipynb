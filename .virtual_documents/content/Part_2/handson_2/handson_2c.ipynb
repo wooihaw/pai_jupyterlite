


# Initialization
from warnings import filterwarnings
filterwarnings('ignore')


# Load libraries
import pandas as pd

# Load dataset from csv file
df1 = pd.read_csv('titanic.csv')


# Preview 10 random samples of the dataset
df1.sample(10)


# Statistical summary
df1.describe()





























df3.to_csv('../../Part_3/handson_3/titanic_processed.csv', index=False)
