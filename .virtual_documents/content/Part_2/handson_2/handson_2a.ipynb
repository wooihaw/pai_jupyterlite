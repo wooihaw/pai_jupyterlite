


# Initialization
from warnings import filterwarnings
filterwarnings('ignore')


# Load libraries
import numpy as np
import pandas as pd
from sklearn.model_selection import train_test_split as split
from sklearn.neighbors import KNeighborsClassifier


# Load dataset from csv file and show the first 5 rows of data
df = pd.read_csv("income_classification.csv")
df.head()



























































# Seperate to feature (X) and target (y)
X = df2.drop(columns=["Income"])
y = df2["Income"]

# Split to training and testing sets
X_train, X_test, y_train, y_test = split(X, y, test_size=0.25, random_state=42)

# Train and evaluate a knn model
knn = KNeighborsClassifier().fit(X_train, y_train)
print(f"knn accuracy: {knn.score(X_test, y_test):.2%}")
