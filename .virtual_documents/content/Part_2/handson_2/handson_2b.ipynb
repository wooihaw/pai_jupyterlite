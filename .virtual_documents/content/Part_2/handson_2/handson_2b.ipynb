


# Initialization
from warnings import filterwarnings
filterwarnings('ignore')


# Load libraries
from pandas import read_csv
import matplotlib.pyplot as plt
from sklearn.model_selection import train_test_split as split
from sklearn.neighbors import KNeighborsClassifier
from sklearn.preprocessing import MinMaxScaler

# Load dataset from csv file
df = read_csv('rescale.csv')

# Seperate to features (X) and target (y)
X = df.values[:, :-1]
y = df.values[:, -1]

# Split to training and testing sets
X1_train, X1_test, y_train, y_test = split(X, y, random_state=41)

# Plot features
xx = X1_train[:, 0]
yy = X1_train[:, 1]
plt.scatter(xx, yy, c=y_train)
plt.xlabel('Feature 1')
plt.ylabel('Feature 2')
plt.title('Original data points')
plt.axis('equal')
plt.show()





knn1 = KNeighborsClassifier().fit(X1_train, y_train)
print(f'knn1 acurracy: {knn1.score(X1_test, y_test):.2%}')












